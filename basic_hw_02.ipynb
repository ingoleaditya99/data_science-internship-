{
 "cells": [
  {
   "cell_type": "markdown",
   "id": "55fc8da4-e86b-448e-9120-7d08b3a55068",
   "metadata": {},
   "source": [
    "# List functions"
   ]
  },
  {
   "cell_type": "code",
   "execution_count": 2,
   "id": "72365db0-9207-47ab-8603-b30c9553f887",
   "metadata": {},
   "outputs": [],
   "source": [
    "my_list=[14,72,32,89,90]"
   ]
  },
  {
   "cell_type": "code",
   "execution_count": 3,
   "id": "352bf7e3-08c7-41cc-b746-2c9a726c132d",
   "metadata": {},
   "outputs": [
    {
     "name": "stdout",
     "output_type": "stream",
     "text": [
      "[14, 32, 72, 89, 90]\n"
     ]
    }
   ],
   "source": [
    "my_list.sort()\n",
    "print(my_list)"
   ]
  },
  {
   "cell_type": "code",
   "execution_count": 4,
   "id": "c4e18d27-dd96-4261-ad86-2fd957b8b6f0",
   "metadata": {},
   "outputs": [
    {
     "name": "stdout",
     "output_type": "stream",
     "text": [
      "[32, 72, 89, 90]\n"
     ]
    }
   ],
   "source": [
    "my_list.pop(0)\n",
    "print(my_list)"
   ]
  },
  {
   "cell_type": "code",
   "execution_count": 5,
   "id": "414ba5b9-12d7-4402-9612-b9431f4f0062",
   "metadata": {},
   "outputs": [
    {
     "name": "stdout",
     "output_type": "stream",
     "text": [
      "[32, 72, 89, 90, 33]\n"
     ]
    }
   ],
   "source": [
    "my_list.append(33)\n",
    "print(my_list)"
   ]
  },
  {
   "cell_type": "code",
   "execution_count": 6,
   "id": "b33c88d3-2a36-4b78-9feb-fa9e746643c1",
   "metadata": {},
   "outputs": [
    {
     "name": "stdout",
     "output_type": "stream",
     "text": [
      "[72, 89, 90, 33]\n"
     ]
    }
   ],
   "source": [
    "my_list.remove(32)\n",
    "print(my_list)"
   ]
  },
  {
   "cell_type": "code",
   "execution_count": 7,
   "id": "beaf6542-6e5b-411b-ae56-08a96281e732",
   "metadata": {},
   "outputs": [
    {
     "name": "stdout",
     "output_type": "stream",
     "text": [
      "[72, 89, 90, 54, 33]\n"
     ]
    }
   ],
   "source": [
    "my_list.insert(3,54)\n",
    "print(my_list)"
   ]
  },
  {
   "cell_type": "markdown",
   "id": "55296842-864a-4aff-be12-0acfeda6e284",
   "metadata": {},
   "source": [
    "# Tuple functions"
   ]
  },
  {
   "cell_type": "code",
   "execution_count": 10,
   "id": "1348c731-2b70-4436-8707-843848c90c24",
   "metadata": {},
   "outputs": [],
   "source": [
    "tup=(64,27,98,64,54,10)"
   ]
  },
  {
   "cell_type": "code",
   "execution_count": 11,
   "id": "2aa1ebd5-4ddd-4785-a19e-def3d8f8f8aa",
   "metadata": {},
   "outputs": [
    {
     "name": "stdout",
     "output_type": "stream",
     "text": [
      "2\n"
     ]
    }
   ],
   "source": [
    "print(tup.count(64))            #Built in tuple functions"
   ]
  },
  {
   "cell_type": "code",
   "execution_count": 13,
   "id": "2c99da27-2b78-4c36-8267-014d06446488",
   "metadata": {},
   "outputs": [
    {
     "name": "stdout",
     "output_type": "stream",
     "text": [
      "2\n"
     ]
    }
   ],
   "source": [
    "print(tup.index(98))            #Built in tuple functions"
   ]
  },
  {
   "cell_type": "code",
   "execution_count": 15,
   "id": "5aa63fb3-0a02-4b8f-a08f-feca903a2a7e",
   "metadata": {},
   "outputs": [
    {
     "name": "stdout",
     "output_type": "stream",
     "text": [
      "10\n"
     ]
    }
   ],
   "source": [
    "print(min(tup))"
   ]
  },
  {
   "cell_type": "code",
   "execution_count": 16,
   "id": "8f7dc823-b866-44bc-9b00-974613128b9a",
   "metadata": {},
   "outputs": [
    {
     "name": "stdout",
     "output_type": "stream",
     "text": [
      "98\n"
     ]
    }
   ],
   "source": [
    "print(max(tup))"
   ]
  },
  {
   "cell_type": "code",
   "execution_count": 17,
   "id": "33c9bf9a-4f78-4e14-83f8-200e68db8b63",
   "metadata": {},
   "outputs": [
    {
     "name": "stdout",
     "output_type": "stream",
     "text": [
      "317\n"
     ]
    }
   ],
   "source": [
    "print(sum(tup))"
   ]
  },
  {
   "cell_type": "markdown",
   "id": "dba0f140-a3f7-40c7-9db5-b5270e0bad33",
   "metadata": {},
   "source": [
    "# Set functions"
   ]
  },
  {
   "cell_type": "code",
   "execution_count": 27,
   "id": "c18f2fae-c082-4788-9899-e0c896d93aee",
   "metadata": {},
   "outputs": [],
   "source": [
    "s={24,75,78,64,33}"
   ]
  },
  {
   "cell_type": "code",
   "execution_count": 28,
   "id": "2277dd78-3a68-4690-afae-8bf820a11255",
   "metadata": {},
   "outputs": [
    {
     "name": "stdout",
     "output_type": "stream",
     "text": [
      "{64, 33, 24, 43, 75, 78}\n"
     ]
    }
   ],
   "source": [
    "s.add(43)\n",
    "print(s)"
   ]
  },
  {
   "cell_type": "code",
   "execution_count": 29,
   "id": "32a5086c-50cb-490d-aaa8-ea4b49e7af8d",
   "metadata": {},
   "outputs": [
    {
     "name": "stdout",
     "output_type": "stream",
     "text": [
      "{64, 24, 43, 75, 78}\n"
     ]
    }
   ],
   "source": [
    "s.remove(33)\n",
    "print(s)"
   ]
  },
  {
   "cell_type": "code",
   "execution_count": 30,
   "id": "67418d9e-c6a1-4e7c-8821-36a914488cb4",
   "metadata": {},
   "outputs": [
    {
     "name": "stdout",
     "output_type": "stream",
     "text": [
      "{64, 4, 6, 8, 75, 78, 24, 43}\n"
     ]
    }
   ],
   "source": [
    "s.update([4,6,8])\n",
    "print(s)"
   ]
  },
  {
   "cell_type": "code",
   "execution_count": 31,
   "id": "250abfbc-44e7-4d75-b37c-05be1771f6b1",
   "metadata": {},
   "outputs": [
    {
     "name": "stdout",
     "output_type": "stream",
     "text": [
      "{64, 4, 6, 8, 75, 78, 24, 43}\n"
     ]
    }
   ],
   "source": [
    "s.discard(81)\n",
    "print(s)"
   ]
  },
  {
   "cell_type": "code",
   "execution_count": 32,
   "id": "9dbf5f75-eaae-432e-abdc-1b7bbdc3ea74",
   "metadata": {},
   "outputs": [
    {
     "name": "stdout",
     "output_type": "stream",
     "text": [
      "set()\n"
     ]
    }
   ],
   "source": [
    "s.clear()\n",
    "print(s)"
   ]
  },
  {
   "cell_type": "code",
   "execution_count": null,
   "id": "33f6f916-00fe-49df-b421-6f5d2e692891",
   "metadata": {},
   "outputs": [],
   "source": [
    "s.clear(64,27,98,64,54,10)\n",
    "print(s)\n",
    "print(min(tup))     #take reference from upper "
   ]
  }
 ],
 "metadata": {
  "kernelspec": {
   "display_name": "Python 3 (ipykernel)",
   "language": "python",
   "name": "python3"
  },
  "language_info": {
   "codemirror_mode": {
    "name": "ipython",
    "version": 3
   },
   "file_extension": ".py",
   "mimetype": "text/x-python",
   "name": "python",
   "nbconvert_exporter": "python",
   "pygments_lexer": "ipython3",
   "version": "3.13.5"
  }
 },
 "nbformat": 4,
 "nbformat_minor": 5
}
