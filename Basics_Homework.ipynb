{
 "cells": [
  {
   "cell_type": "markdown",
   "id": "257626b4-1e6d-4307-ac1d-d5db439bdaf2",
   "metadata": {},
   "source": [
    "# 10 string functions (not peroformed in class).... ;)"
   ]
  },
  {
   "cell_type": "markdown",
   "id": "6fe6cbdb-6974-4775-b33a-45c93d3e43cd",
   "metadata": {},
   "source": [
    "name=\"Aditya's here    \""
   ]
  },
  {
   "cell_type": "code",
   "execution_count": 28,
   "id": "c36787f7-3945-4af5-ad12-826488e06d3c",
   "metadata": {},
   "outputs": [
    {
     "data": {
      "text/plain": [
       "\"Aditya's here\""
      ]
     },
     "execution_count": 28,
     "metadata": {},
     "output_type": "execute_result"
    }
   ],
   "source": [
    "name.strip()                               #Number 1"
   ]
  },
  {
   "cell_type": "code",
   "execution_count": 29,
   "id": "e09eaca6-a014-485b-9d75-1ba55e8700a8",
   "metadata": {},
   "outputs": [
    {
     "data": {
      "text/plain": [
       "\"Dinosaur's here    \""
      ]
     },
     "execution_count": 29,
     "metadata": {},
     "output_type": "execute_result"
    }
   ],
   "source": [
    "name.replace(\"Aditya\",\"Dinosaur\")          #Number 2"
   ]
  },
  {
   "cell_type": "code",
   "execution_count": 33,
   "id": "10a0d13d-199b-4050-99fe-78e0b8bcac8f",
   "metadata": {},
   "outputs": [
    {
     "data": {
      "text/plain": [
       "[\"Aditya's\", 'here', '', '', '', '']"
      ]
     },
     "execution_count": 33,
     "metadata": {},
     "output_type": "execute_result"
    }
   ],
   "source": [
    "name.split(\" \")                            #Number 3"
   ]
  },
  {
   "cell_type": "code",
   "execution_count": 37,
   "id": "ebb4853e-3c72-45bd-9fb8-e0c5ae06798d",
   "metadata": {},
   "outputs": [
    {
     "data": {
      "text/plain": [
       "10"
      ]
     },
     "execution_count": 37,
     "metadata": {},
     "output_type": "execute_result"
    }
   ],
   "source": [
    "name.find(\"e\")                             #Number 4"
   ]
  },
  {
   "cell_type": "code",
   "execution_count": 40,
   "id": "61df394a-d57a-4cf6-b7b4-0dbacebc3be5",
   "metadata": {},
   "outputs": [
    {
     "data": {
      "text/plain": [
       "\"Nobody's here\""
      ]
     },
     "execution_count": 40,
     "metadata": {},
     "output_type": "execute_result"
    }
   ],
   "source": [
    "name1=\"nobody's here\"                      #Number 5\n",
    "name1.capitalize()                             "
   ]
  },
  {
   "cell_type": "code",
   "execution_count": 41,
   "id": "3a28239c-3851-42d8-b571-b2f510fd26d0",
   "metadata": {},
   "outputs": [
    {
     "data": {
      "text/plain": [
       "\"Aditya'S Here    \""
      ]
     },
     "execution_count": 41,
     "metadata": {},
     "output_type": "execute_result"
    }
   ],
   "source": [
    "name.title()                               #Number 6"
   ]
  },
  {
   "cell_type": "code",
   "execution_count": 43,
   "id": "b11ab142-8f9d-40a8-9a8d-e41d8396892d",
   "metadata": {},
   "outputs": [
    {
     "data": {
      "text/plain": [
       "\"aDITYA'S HERE    \""
      ]
     },
     "execution_count": 43,
     "metadata": {},
     "output_type": "execute_result"
    }
   ],
   "source": [
    "name.swapcase()                            #Number 7"
   ]
  },
  {
   "cell_type": "code",
   "execution_count": 64,
   "id": "d3d60326-384e-4124-9189-a412a8667e34",
   "metadata": {},
   "outputs": [
    {
     "data": {
      "text/plain": [
       "'@@@@@@@@India@@@@@@@@@'"
      ]
     },
     "execution_count": 64,
     "metadata": {},
     "output_type": "execute_result"
    }
   ],
   "source": [
    "name2=\"India\"                              #Number 8\n",
    "name2.center(22,\"@\")"
   ]
  },
  {
   "cell_type": "code",
   "execution_count": 68,
   "id": "1835f8f2-7726-4362-bf73-f5a852530d49",
   "metadata": {},
   "outputs": [
    {
     "data": {
      "text/plain": [
       "\"00000000000Aditya's here    \""
      ]
     },
     "execution_count": 68,
     "metadata": {},
     "output_type": "execute_result"
    }
   ],
   "source": [
    "name.zfill(28)                             #Number 9"
   ]
  },
  {
   "cell_type": "code",
   "execution_count": 69,
   "id": "d192088d-fbc5-49ad-bc76-1a805fe9df4d",
   "metadata": {},
   "outputs": [
    {
     "data": {
      "text/plain": [
       "False"
      ]
     },
     "execution_count": 69,
     "metadata": {},
     "output_type": "execute_result"
    }
   ],
   "source": [
    "name.isdigit()                             #Number 10"
   ]
  },
  {
   "cell_type": "markdown",
   "id": "20ebd8e7-9ee6-497f-ba9f-ff73591300a6",
   "metadata": {},
   "source": [
    "# Operations using Operators.... :)"
   ]
  },
  {
   "cell_type": "markdown",
   "id": "79ee8d3b-43b7-4def-ade3-05cafb585c24",
   "metadata": {},
   "source": [
    "### Bitwise operators....^-^"
   ]
  },
  {
   "cell_type": "code",
   "execution_count": 71,
   "id": "e53ffb5a-d4d7-4cb4-8737-8ad1a9a32808",
   "metadata": {},
   "outputs": [],
   "source": [
    "a=6\n",
    "b=17"
   ]
  },
  {
   "cell_type": "code",
   "execution_count": 72,
   "id": "7a39bbe7-33e9-4645-b0af-9224cd8c71bb",
   "metadata": {},
   "outputs": [
    {
     "name": "stdout",
     "output_type": "stream",
     "text": [
      "a & b = 0\n"
     ]
    }
   ],
   "source": [
    "print(\"a & b =\",a&b)"
   ]
  },
  {
   "cell_type": "code",
   "execution_count": 73,
   "id": "5e08b516-9e47-4ce8-bd68-08a021014593",
   "metadata": {},
   "outputs": [
    {
     "name": "stdout",
     "output_type": "stream",
     "text": [
      "a | b = 23\n"
     ]
    }
   ],
   "source": [
    "print(\"a | b =\",a|b)"
   ]
  },
  {
   "cell_type": "code",
   "execution_count": 74,
   "id": "7d6872b7-8170-4f5b-a2a3-cf6b27af7be2",
   "metadata": {},
   "outputs": [
    {
     "name": "stdout",
     "output_type": "stream",
     "text": [
      "a ^ b = 23\n"
     ]
    }
   ],
   "source": [
    "print(\"a ^ b =\",a^b)"
   ]
  },
  {
   "cell_type": "code",
   "execution_count": 75,
   "id": "bab941de-a668-42b9-bc8d-19ec3a9aaa38",
   "metadata": {},
   "outputs": [
    {
     "name": "stdout",
     "output_type": "stream",
     "text": [
      "~a = -7\n"
     ]
    }
   ],
   "source": [
    "print(\"~a =\",~a)"
   ]
  },
  {
   "cell_type": "code",
   "execution_count": 76,
   "id": "5a1b2a9c-6bc9-4c04-8e80-1672c095d636",
   "metadata": {},
   "outputs": [
    {
     "name": "stdout",
     "output_type": "stream",
     "text": [
      "a << 1 = 12\n"
     ]
    }
   ],
   "source": [
    "print(\"a << 1 =\",a<<1)"
   ]
  },
  {
   "cell_type": "code",
   "execution_count": 77,
   "id": "5f6a2beb-efd2-45dd-a672-945bb4ee5fdb",
   "metadata": {},
   "outputs": [
    {
     "name": "stdout",
     "output_type": "stream",
     "text": [
      "a >> 1 = 3\n"
     ]
    }
   ],
   "source": [
    "print(\"a >> 1 =\",a>>1)"
   ]
  },
  {
   "cell_type": "markdown",
   "id": "50a6108f-8929-4594-8de1-7061d9376b6f",
   "metadata": {},
   "source": [
    "### Assignment operators....^~^"
   ]
  },
  {
   "cell_type": "code",
   "execution_count": 84,
   "id": "9e6c5d34-efad-42ad-92d1-d246498158e9",
   "metadata": {},
   "outputs": [],
   "source": [
    "a=7"
   ]
  },
  {
   "cell_type": "code",
   "execution_count": 85,
   "id": "57dcf5b9-5f95-4344-9ffe-100fa6d2d095",
   "metadata": {},
   "outputs": [
    {
     "name": "stdout",
     "output_type": "stream",
     "text": [
      "a += 6: 13\n"
     ]
    }
   ],
   "source": [
    "a+=6\n",
    "print(\"a += 6:\",a)"
   ]
  },
  {
   "cell_type": "code",
   "execution_count": 91,
   "id": "f91cf8ad-efb4-49fe-a2aa-a46a0076a792",
   "metadata": {},
   "outputs": [
    {
     "name": "stdout",
     "output_type": "stream",
     "text": [
      "a -= 6: 1\n"
     ]
    }
   ],
   "source": [
    "a=7\n",
    "a-=6\n",
    "print(\"a -= 6:\",a)"
   ]
  },
  {
   "cell_type": "code",
   "execution_count": 92,
   "id": "1e099e9c-8c17-4165-be06-b2f317c2ab04",
   "metadata": {},
   "outputs": [
    {
     "name": "stdout",
     "output_type": "stream",
     "text": [
      "a *= 6: 42\n"
     ]
    }
   ],
   "source": [
    "a=7\n",
    "a*=6\n",
    "print(\"a *= 6:\",a)"
   ]
  },
  {
   "cell_type": "code",
   "execution_count": 93,
   "id": "49c0f2cc-3a0d-42e3-b880-de454ffe6de1",
   "metadata": {},
   "outputs": [
    {
     "name": "stdout",
     "output_type": "stream",
     "text": [
      "a /= 6: 1.1666666666666667\n"
     ]
    }
   ],
   "source": [
    "a=7\n",
    "a/=6\n",
    "print(\"a /= 6:\",a)"
   ]
  },
  {
   "cell_type": "code",
   "execution_count": 94,
   "id": "b1fb9dd2-3edc-49c0-b903-2fec1c672939",
   "metadata": {},
   "outputs": [
    {
     "name": "stdout",
     "output_type": "stream",
     "text": [
      "a //= 6: 1\n"
     ]
    }
   ],
   "source": [
    "a=7\n",
    "a//=6\n",
    "print(\"a //= 6:\",a)"
   ]
  },
  {
   "cell_type": "code",
   "execution_count": 95,
   "id": "0527081a-2f4d-444f-8198-580b6de693ec",
   "metadata": {},
   "outputs": [
    {
     "name": "stdout",
     "output_type": "stream",
     "text": [
      "a *= 6: 42\n"
     ]
    }
   ],
   "source": [
    "a=7\n",
    "a*=6\n",
    "print(\"a *= 6:\",a)"
   ]
  },
  {
   "cell_type": "code",
   "execution_count": 96,
   "id": "a1b49928-0024-404b-b0c7-b6d98401eadc",
   "metadata": {},
   "outputs": [
    {
     "name": "stdout",
     "output_type": "stream",
     "text": [
      "a **= 6: 117649\n"
     ]
    }
   ],
   "source": [
    "a=7\n",
    "a**=6\n",
    "print(\"a **= 6:\",a)"
   ]
  },
  {
   "cell_type": "code",
   "execution_count": 97,
   "id": "00f946d9-3e0f-4a8c-a917-4daaf57cf069",
   "metadata": {},
   "outputs": [
    {
     "name": "stdout",
     "output_type": "stream",
     "text": [
      "a %= 6: 1\n"
     ]
    }
   ],
   "source": [
    "a=7\n",
    "a%=6\n",
    "print(\"a %= 6:\",a)"
   ]
  },
  {
   "cell_type": "markdown",
   "id": "b799ae93-cd7b-4d69-a7f0-e3e000166f09",
   "metadata": {},
   "source": [
    "# If-else....  :)"
   ]
  },
  {
   "cell_type": "code",
   "execution_count": 99,
   "id": "8ad6ba1e-bb59-418c-b9c1-4ca4e00c1fda",
   "metadata": {},
   "outputs": [
    {
     "name": "stdin",
     "output_type": "stream",
     "text": [
      "Enter a number:  0\n"
     ]
    },
    {
     "name": "stdout",
     "output_type": "stream",
     "text": [
      "Number is not odd nor even so it is....Zero\n"
     ]
    }
   ],
   "source": [
    "num = int(input(\"Enter a number: \"))\n",
    "if num==0:\n",
    "    print(\"Number is not odd nor even so it is....Zero\")\n",
    "elif num%2==0:\n",
    "    print(\"Number is Even\")\n",
    "else:\n",
    "    print(\"Number is Odd\")\n"
   ]
  },
  {
   "cell_type": "markdown",
   "id": "c517bc6f-af7b-4fdb-ba71-38659fca1519",
   "metadata": {},
   "source": [
    "# File operations... ;)"
   ]
  },
  {
   "cell_type": "code",
   "execution_count": 103,
   "id": "38807024-e603-40ac-8060-ccdcfde4f62f",
   "metadata": {},
   "outputs": [],
   "source": [
    "with open(\"a_and_b.txt\",\"w\") as file:\n",
    "    file.write(\"Silence is true power of a man\\n\")\n"
   ]
  },
  {
   "cell_type": "code",
   "execution_count": 104,
   "id": "d10a50b0-a03b-44bb-9e9e-7598ca84b21d",
   "metadata": {},
   "outputs": [],
   "source": [
    "with open(\"a_and_b.txt\",\"a\") as file:\n",
    "    file.write(\"Think, work, fail, fail, fail and achieve it\\n\")\n"
   ]
  },
  {
   "cell_type": "code",
   "execution_count": 106,
   "id": "7f3292bd-878c-4367-aa2a-9aea7679a2f2",
   "metadata": {},
   "outputs": [
    {
     "name": "stdout",
     "output_type": "stream",
     "text": [
      "Displying contents: \n",
      " Silence is true power of a man\n",
      "Think, work, fail, fail, fail and achieve it\n",
      "\n"
     ]
    }
   ],
   "source": [
    "with open(\"a_and_b.txt\",\"r\") as file:\n",
    "    readit=file.read()\n",
    "    print(\"Displying contents: \\n\",readit)\n"
   ]
  },
  {
   "cell_type": "code",
   "execution_count": null,
   "id": "ef315316-5ce2-4bc9-a923-7a9aa2fe5682",
   "metadata": {},
   "outputs": [],
   "source": []
  }
 ],
 "metadata": {
  "kernelspec": {
   "display_name": "Python 3 (ipykernel)",
   "language": "python",
   "name": "python3"
  },
  "language_info": {
   "codemirror_mode": {
    "name": "ipython",
    "version": 3
   },
   "file_extension": ".py",
   "mimetype": "text/x-python",
   "name": "python",
   "nbconvert_exporter": "python",
   "pygments_lexer": "ipython3",
   "version": "3.13.5"
  }
 },
 "nbformat": 4,
 "nbformat_minor": 5
}
