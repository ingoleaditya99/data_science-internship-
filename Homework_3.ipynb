{
 "cells": [
  {
   "cell_type": "code",
   "execution_count": 2,
   "id": "81a3edf7-b0c7-4b45-8c6f-ed95092ac8b7",
   "metadata": {},
   "outputs": [],
   "source": [
    "import numpy as np"
   ]
  },
  {
   "cell_type": "code",
   "execution_count": 3,
   "id": "d41db08c-7e11-4199-96a3-3f545486e9d2",
   "metadata": {},
   "outputs": [
    {
     "name": "stdout",
     "output_type": "stream",
     "text": [
      "[1 2 3]\n"
     ]
    }
   ],
   "source": [
    "arr=np.array([1,2,3])\n",
    "print(arr)"
   ]
  },
  {
   "cell_type": "code",
   "execution_count": 4,
   "id": "a6db7319-2137-476a-88a4-95d394519bf9",
   "metadata": {},
   "outputs": [
    {
     "data": {
      "text/plain": [
       "array([[0., 0., 0., 0.],\n",
       "       [0., 0., 0., 0.],\n",
       "       [0., 0., 0., 0.]])"
      ]
     },
     "execution_count": 4,
     "metadata": {},
     "output_type": "execute_result"
    }
   ],
   "source": [
    "np.zeros((3,4))"
   ]
  },
  {
   "cell_type": "code",
   "execution_count": 5,
   "id": "3a3f0cb6-b9d6-4e5a-9f48-4067575437b3",
   "metadata": {},
   "outputs": [
    {
     "data": {
      "text/plain": [
       "array([[1., 1., 1., 1., 1.],\n",
       "       [1., 1., 1., 1., 1.]])"
      ]
     },
     "execution_count": 5,
     "metadata": {},
     "output_type": "execute_result"
    }
   ],
   "source": [
    "np.ones((2,5))"
   ]
  },
  {
   "cell_type": "code",
   "execution_count": 6,
   "id": "c78d2d64-6b38-4e2f-b1bf-c02a742220e6",
   "metadata": {},
   "outputs": [
    {
     "data": {
      "text/plain": [
       "array([[8, 8, 8, 8, 8],\n",
       "       [8, 8, 8, 8, 8],\n",
       "       [8, 8, 8, 8, 8],\n",
       "       [8, 8, 8, 8, 8]])"
      ]
     },
     "execution_count": 6,
     "metadata": {},
     "output_type": "execute_result"
    }
   ],
   "source": [
    "np.full((4,5),8)"
   ]
  },
  {
   "cell_type": "code",
   "execution_count": 4,
   "id": "c90434b3-f62c-4f5a-afe0-1764f7ee5e64",
   "metadata": {},
   "outputs": [
    {
     "data": {
      "text/plain": [
       "array([[1., 0., 0., 0.],\n",
       "       [0., 1., 0., 0.],\n",
       "       [0., 0., 1., 0.],\n",
       "       [0., 0., 0., 1.]])"
      ]
     },
     "execution_count": 4,
     "metadata": {},
     "output_type": "execute_result"
    }
   ],
   "source": [
    "np.eye(4)"
   ]
  },
  {
   "cell_type": "code",
   "execution_count": 10,
   "id": "5cdb0704-cc54-446c-93ed-4f9d485c0414",
   "metadata": {},
   "outputs": [
    {
     "data": {
      "text/plain": [
       "array([ 28,  33,  38,  43,  48,  53,  58,  63,  68,  73,  78,  83,  88,\n",
       "        93,  98, 103, 108, 113, 118, 123, 128, 133, 138, 143, 148, 153,\n",
       "       158, 163, 168, 173, 178, 183, 188, 193, 198, 203, 208, 213, 218,\n",
       "       223, 228, 233, 238, 243, 248, 253, 258, 263, 268, 273, 278, 283,\n",
       "       288, 293, 298, 303, 308, 313, 318, 323, 328, 333, 338, 343, 348,\n",
       "       353, 358, 363, 368, 373, 378, 383, 388, 393, 398])"
      ]
     },
     "execution_count": 10,
     "metadata": {},
     "output_type": "execute_result"
    }
   ],
   "source": [
    "np.arange(28,400,5)"
   ]
  },
  {
   "cell_type": "code",
   "execution_count": 11,
   "id": "a134b326-e3a7-40f7-862f-be3b04a6ca77",
   "metadata": {},
   "outputs": [
    {
     "data": {
      "text/plain": [
       "array([ 44.        ,  59.85185185,  75.7037037 ,  91.55555556,\n",
       "       107.40740741, 123.25925926, 139.11111111, 154.96296296,\n",
       "       170.81481481, 186.66666667, 202.51851852, 218.37037037,\n",
       "       234.22222222, 250.07407407, 265.92592593, 281.77777778,\n",
       "       297.62962963, 313.48148148, 329.33333333, 345.18518519,\n",
       "       361.03703704, 376.88888889, 392.74074074, 408.59259259,\n",
       "       424.44444444, 440.2962963 , 456.14814815, 472.        ,\n",
       "       487.85185185, 503.7037037 , 519.55555556, 535.40740741,\n",
       "       551.25925926, 567.11111111, 582.96296296, 598.81481481,\n",
       "       614.66666667, 630.51851852, 646.37037037, 662.22222222,\n",
       "       678.07407407, 693.92592593, 709.77777778, 725.62962963,\n",
       "       741.48148148, 757.33333333, 773.18518519, 789.03703704,\n",
       "       804.88888889, 820.74074074, 836.59259259, 852.44444444,\n",
       "       868.2962963 , 884.14814815, 900.        ])"
      ]
     },
     "execution_count": 11,
     "metadata": {},
     "output_type": "execute_result"
    }
   ],
   "source": [
    "np.linspace(44,900,55)"
   ]
  },
  {
   "cell_type": "code",
   "execution_count": 16,
   "id": "eaf6c163-a54d-4037-bcf7-4742f9c511d1",
   "metadata": {},
   "outputs": [],
   "source": [
    "a_array=np.array([[2,3,4],[5,6,7],[8,9,0]])"
   ]
  },
  {
   "cell_type": "code",
   "execution_count": 17,
   "id": "d9d436b5-cf5d-4879-88e5-2d06a6e8487e",
   "metadata": {},
   "outputs": [
    {
     "data": {
      "text/plain": [
       "(3, 3)"
      ]
     },
     "execution_count": 17,
     "metadata": {},
     "output_type": "execute_result"
    }
   ],
   "source": [
    "a_array.shape"
   ]
  },
  {
   "cell_type": "code",
   "execution_count": 18,
   "id": "8a7c3354-f6c2-4283-b586-46a76ccd6f03",
   "metadata": {},
   "outputs": [
    {
     "data": {
      "text/plain": [
       "2"
      ]
     },
     "execution_count": 18,
     "metadata": {},
     "output_type": "execute_result"
    }
   ],
   "source": [
    "a_array.ndim"
   ]
  },
  {
   "cell_type": "code",
   "execution_count": 19,
   "id": "2039d653-51cb-4a41-9883-aa283a6c3958",
   "metadata": {},
   "outputs": [
    {
     "data": {
      "text/plain": [
       "dtype('int64')"
      ]
     },
     "execution_count": 19,
     "metadata": {},
     "output_type": "execute_result"
    }
   ],
   "source": [
    "a_array.dtype"
   ]
  },
  {
   "cell_type": "code",
   "execution_count": 31,
   "id": "bcbf843b-7dab-43c5-9035-0bcc2c8785c1",
   "metadata": {},
   "outputs": [],
   "source": [
    "b_array=np.array([[90,91,92],[93,94,95],[96,97,99],[906,907,909]])"
   ]
  },
  {
   "cell_type": "code",
   "execution_count": 32,
   "id": "854a4028-8bf4-4146-bdea-421c5facc2d5",
   "metadata": {},
   "outputs": [],
   "source": [
    "res=b_array.reshape(2,6)"
   ]
  },
  {
   "cell_type": "code",
   "execution_count": 33,
   "id": "e6ce66e3-ed8c-451b-a639-65cf9818a0ea",
   "metadata": {},
   "outputs": [
    {
     "data": {
      "text/plain": [
       "array([[ 90,  91,  92,  93,  94,  95],\n",
       "       [ 96,  97,  99, 906, 907, 909]])"
      ]
     },
     "execution_count": 33,
     "metadata": {},
     "output_type": "execute_result"
    }
   ],
   "source": [
    "res"
   ]
  },
  {
   "cell_type": "code",
   "execution_count": 34,
   "id": "1c3ebd18-d65d-459f-a2a3-ad13a3b8d04b",
   "metadata": {},
   "outputs": [
    {
     "data": {
      "text/plain": [
       "array([ 90,  91,  92,  93,  94,  95,  96,  97,  99, 906, 907, 909])"
      ]
     },
     "execution_count": 34,
     "metadata": {},
     "output_type": "execute_result"
    }
   ],
   "source": [
    "b_array.flatten()"
   ]
  },
  {
   "cell_type": "code",
   "execution_count": 35,
   "id": "094b0b41-0086-4653-9db8-36ece68f4746",
   "metadata": {},
   "outputs": [
    {
     "data": {
      "text/plain": [
       "array([ 273,  282,  292, 2722])"
      ]
     },
     "execution_count": 35,
     "metadata": {},
     "output_type": "execute_result"
    }
   ],
   "source": [
    "np.sum(b_array,axis=1)"
   ]
  },
  {
   "cell_type": "code",
   "execution_count": 36,
   "id": "d0ec5b0d-4fea-4b62-ace0-87d35bc36350",
   "metadata": {},
   "outputs": [
    {
     "data": {
      "text/plain": [
       "np.int64(99)"
      ]
     },
     "execution_count": 36,
     "metadata": {},
     "output_type": "execute_result"
    }
   ],
   "source": [
    "b_array[2][2]"
   ]
  },
  {
   "cell_type": "code",
   "execution_count": 37,
   "id": "2cda5ad0-35f3-4c2e-942d-13754234022f",
   "metadata": {},
   "outputs": [],
   "source": [
    "flat=b_array.flatten()"
   ]
  },
  {
   "cell_type": "code",
   "execution_count": 41,
   "id": "581780fc-df7f-47cb-98e0-1fd0626f7b45",
   "metadata": {},
   "outputs": [],
   "source": [
    "sliced=flat[2:5].copy()"
   ]
  },
  {
   "cell_type": "code",
   "execution_count": 42,
   "id": "8e2d5702-8e90-4aae-a452-da7b4ace2da7",
   "metadata": {},
   "outputs": [
    {
     "data": {
      "text/plain": [
       "array([92, 93, 94])"
      ]
     },
     "execution_count": 42,
     "metadata": {},
     "output_type": "execute_result"
    }
   ],
   "source": [
    "sliced"
   ]
  },
  {
   "cell_type": "code",
   "execution_count": 43,
   "id": "65e8bb62-2542-4295-bb89-a46148e29656",
   "metadata": {},
   "outputs": [],
   "source": [
    "sliced[2]=43"
   ]
  },
  {
   "cell_type": "code",
   "execution_count": 44,
   "id": "a55a53ae-1841-45ad-9444-fd18b4f9e81d",
   "metadata": {},
   "outputs": [
    {
     "data": {
      "text/plain": [
       "array([92, 93, 43])"
      ]
     },
     "execution_count": 44,
     "metadata": {},
     "output_type": "execute_result"
    }
   ],
   "source": [
    "sliced"
   ]
  },
  {
   "cell_type": "code",
   "execution_count": 46,
   "id": "53592b98-cf1d-4cd9-8737-f035cdd40d15",
   "metadata": {},
   "outputs": [
    {
     "data": {
      "text/plain": [
       "array([ 90,  91,  92,  93,  94,  95,  96,  97,  99, 906, 907, 909])"
      ]
     },
     "execution_count": 46,
     "metadata": {},
     "output_type": "execute_result"
    }
   ],
   "source": [
    "flat"
   ]
  },
  {
   "cell_type": "code",
   "execution_count": 10,
   "id": "247592db-f92e-47d5-9f37-c4b3eb7886ab",
   "metadata": {},
   "outputs": [
    {
     "data": {
      "text/plain": [
       "np.True_"
      ]
     },
     "execution_count": 10,
     "metadata": {},
     "output_type": "execute_result"
    }
   ],
   "source": [
    "np.bool(5<9)"
   ]
  },
  {
   "cell_type": "code",
   "execution_count": null,
   "id": "ee701fb8-f7a5-46e2-bfb8-dac6965a2638",
   "metadata": {},
   "outputs": [],
   "source": []
  }
 ],
 "metadata": {
  "kernelspec": {
   "display_name": "Python 3 (ipykernel)",
   "language": "python",
   "name": "python3"
  },
  "language_info": {
   "codemirror_mode": {
    "name": "ipython",
    "version": 3
   },
   "file_extension": ".py",
   "mimetype": "text/x-python",
   "name": "python",
   "nbconvert_exporter": "python",
   "pygments_lexer": "ipython3",
   "version": "3.13.5"
  }
 },
 "nbformat": 4,
 "nbformat_minor": 5
}
